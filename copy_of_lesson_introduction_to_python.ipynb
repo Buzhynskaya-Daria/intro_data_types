{
  "cells": [
    {
      "cell_type": "markdown",
      "metadata": {
        "id": "view-in-github",
        "colab_type": "text"
      },
      "source": [
        "<a href=\"https://colab.research.google.com/github/Buzhynskaya-Daria/intro_data_types/blob/main/copy_of_lesson_introduction_to_python.ipynb\" target=\"_parent\"><img src=\"https://colab.research.google.com/assets/colab-badge.svg\" alt=\"Open In Colab\"/></a>"
      ]
    },
    {
      "cell_type": "markdown",
      "metadata": {
        "id": "3E2D_PWb6BdA"
      },
      "source": [
        "<div>\n",
        "<img src=\"https://coursereport-s3-production.global.ssl.fastly.net/uploads/school/logo/219/original/CT_LOGO_NEW.jpg\" width=60>\n",
        "</div>\n",
        "\n",
        "#  **Introduction to Python - Data Types**\n",
        "\n",
        "*Be sure to be following along with the lesson page before progressing in this notebook!*"
      ]
    },
    {
      "cell_type": "markdown",
      "source": [
        "## **🌎 \"Hello, World!\"**"
      ],
      "metadata": {
        "id": "4QhXGOoMxM39"
      }
    },
    {
      "cell_type": "code",
      "source": [
        "# To run a cell in this notebook, you can click the play button to the left of the cell,\n",
        "# or you can press 'Shift' + 'Return' on your keyboard. This will execute any code or commands\n",
        "# written in the cell and display the output below it.\n",
        "\n",
        "print(\"Hello, World!\")"
      ],
      "metadata": {
        "id": "pIkNShlexJXL",
        "colab": {
          "base_uri": "https://localhost:8080/"
        },
        "outputId": "6240c1ac-ee23-4555-f44c-71c6a05681c4"
      },
      "execution_count": null,
      "outputs": [
        {
          "output_type": "stream",
          "name": "stdout",
          "text": [
            "Hello, World!\n"
          ]
        }
      ]
    },
    {
      "cell_type": "markdown",
      "source": [
        "![](https://i.gifer.com/origin/5f/5fa2b63c40c70da800bf9e7e5195645e_w200.gif)"
      ],
      "metadata": {
        "id": "4mdjtOGsxXsP"
      }
    },
    {
      "cell_type": "markdown",
      "source": [
        "## **🛝 Practice Playground** - Section 1\n",
        "In Python, data types define the kind of data that can be stored and manipulated within a program. Understanding these types is crucial as they determine the operations that can be performed on data and how it is stored. Python's data types include numeric types (int, float, complex), the text type (str), the boolean type (bool), and collection types (list, tuple, dict, set)."
      ],
      "metadata": {
        "id": "YOUiHU27y0mn"
      }
    },
    {
      "cell_type": "code",
      "execution_count": null,
      "metadata": {
        "id": "ZvzqVRb86BdP",
        "colab": {
          "base_uri": "https://localhost:8080/"
        },
        "outputId": "6132b465-ba46-4f4e-8ebc-11430846d075"
      },
      "outputs": [
        {
          "output_type": "execute_result",
          "data": {
            "text/plain": [
              "int"
            ]
          },
          "metadata": {},
          "execution_count": 15
        }
      ],
      "source": [
        "# Run this cell!\n",
        "\n",
        "type(5)"
      ]
    },
    {
      "cell_type": "code",
      "execution_count": null,
      "metadata": {
        "id": "YbetqlU_6BdP",
        "colab": {
          "base_uri": "https://localhost:8080/"
        },
        "outputId": "d8f330f7-5fc7-468b-eff5-6d15cf72e5d3"
      },
      "outputs": [
        {
          "output_type": "execute_result",
          "data": {
            "text/plain": [
              "float"
            ]
          },
          "metadata": {},
          "execution_count": 16
        }
      ],
      "source": [
        "# Run this cell!\n",
        "\n",
        "type(8.0)"
      ]
    },
    {
      "cell_type": "code",
      "source": [
        "# Run this cell!\n",
        "\n",
        "type(\"Hello, world!\")"
      ],
      "metadata": {
        "id": "COZbkLYTs56N",
        "colab": {
          "base_uri": "https://localhost:8080/"
        },
        "outputId": "09fd28f9-aac3-43c0-c1d6-76ed73c92a1b"
      },
      "execution_count": null,
      "outputs": [
        {
          "output_type": "execute_result",
          "data": {
            "text/plain": [
              "str"
            ]
          },
          "metadata": {},
          "execution_count": 11
        }
      ]
    },
    {
      "cell_type": "code",
      "source": [
        "# Run this cell!\n",
        "\n",
        "type(True)"
      ],
      "metadata": {
        "id": "nqyQ50bQtpuW",
        "colab": {
          "base_uri": "https://localhost:8080/"
        },
        "outputId": "d776b720-48a4-49e1-b8f5-685412aaf66a"
      },
      "execution_count": null,
      "outputs": [
        {
          "output_type": "execute_result",
          "data": {
            "text/plain": [
              "bool"
            ]
          },
          "metadata": {},
          "execution_count": 12
        }
      ]
    },
    {
      "cell_type": "code",
      "source": [
        "# Run this cell!\n",
        "\n",
        "type([1, 2, 3, 4, 5])"
      ],
      "metadata": {
        "id": "Avxqm-Tds86J",
        "colab": {
          "base_uri": "https://localhost:8080/"
        },
        "outputId": "b95eda18-e0c5-472c-d760-240bc065c91c"
      },
      "execution_count": null,
      "outputs": [
        {
          "output_type": "execute_result",
          "data": {
            "text/plain": [
              "list"
            ]
          },
          "metadata": {},
          "execution_count": 13
        }
      ]
    },
    {
      "cell_type": "code",
      "source": [
        "# Run this cell!\n",
        "\n",
        "type({'key' : 'value'})"
      ],
      "metadata": {
        "id": "i871jVSQtfuw",
        "colab": {
          "base_uri": "https://localhost:8080/"
        },
        "outputId": "2b242207-dae3-4633-bf95-67756668d992"
      },
      "execution_count": null,
      "outputs": [
        {
          "output_type": "execute_result",
          "data": {
            "text/plain": [
              "dict"
            ]
          },
          "metadata": {},
          "execution_count": 14
        }
      ]
    },
    {
      "cell_type": "markdown",
      "source": [
        "We'll take a look at each of these in more depth!"
      ],
      "metadata": {
        "id": "MBasFSbPtG2x"
      }
    },
    {
      "cell_type": "markdown",
      "source": [
        "---"
      ],
      "metadata": {
        "id": "ysRhcsKft27B"
      }
    },
    {
      "cell_type": "markdown",
      "metadata": {
        "id": "gqQArSbM6BdE"
      },
      "source": [
        "## **🛝 Practice Playground** - Section 2\n",
        "Learn how to use Python as a powerful calculator to perform basic arithmetic operations. We'll explore how to use Python to perform addition, subtraction, multiplication, and more."
      ]
    },
    {
      "cell_type": "code",
      "execution_count": null,
      "metadata": {
        "id": "GOd-KaSA6BdF",
        "colab": {
          "base_uri": "https://localhost:8080/"
        },
        "outputId": "8907c5ea-a2a7-4f84-8b0b-63e5caf52e49"
      },
      "outputs": [
        {
          "output_type": "execute_result",
          "data": {
            "text/plain": [
              "10"
            ]
          },
          "metadata": {},
          "execution_count": 1
        }
      ],
      "source": [
        "# Addition - Example\n",
        "7 + 3"
      ]
    },
    {
      "cell_type": "code",
      "source": [
        "# Addition - Your Turn\n",
        "5+9"
      ],
      "metadata": {
        "id": "yNq8jO0Ma3vW",
        "colab": {
          "base_uri": "https://localhost:8080/"
        },
        "outputId": "fc2e0c18-6a48-4cb3-96d6-461bd0b7b72f"
      },
      "execution_count": null,
      "outputs": [
        {
          "output_type": "execute_result",
          "data": {
            "text/plain": [
              "14"
            ]
          },
          "metadata": {},
          "execution_count": 18
        }
      ]
    },
    {
      "cell_type": "code",
      "execution_count": null,
      "metadata": {
        "id": "hEro9QDR6BdH",
        "colab": {
          "base_uri": "https://localhost:8080/"
        },
        "outputId": "9c3de1cc-5fc3-45e9-df3b-956707a3e854"
      },
      "outputs": [
        {
          "output_type": "execute_result",
          "data": {
            "text/plain": [
              "-3"
            ]
          },
          "metadata": {},
          "execution_count": 20
        }
      ],
      "source": [
        "# Subtraction\n",
        "5-8"
      ]
    },
    {
      "cell_type": "code",
      "execution_count": null,
      "metadata": {
        "id": "7fyd91V46BdI",
        "colab": {
          "base_uri": "https://localhost:8080/"
        },
        "outputId": "9d908363-a61b-4d88-b6e0-1854ba01ba62"
      },
      "outputs": [
        {
          "output_type": "execute_result",
          "data": {
            "text/plain": [
              "25"
            ]
          },
          "metadata": {},
          "execution_count": 21
        }
      ],
      "source": [
        "# Multiplication\n",
        "5*5"
      ]
    },
    {
      "cell_type": "code",
      "execution_count": null,
      "metadata": {
        "id": "U9_D0xdn6BdJ",
        "colab": {
          "base_uri": "https://localhost:8080/"
        },
        "outputId": "031d7b8e-6674-4187-d2bc-4f270d3cc2e6"
      },
      "outputs": [
        {
          "output_type": "execute_result",
          "data": {
            "text/plain": [
              "1.0"
            ]
          },
          "metadata": {},
          "execution_count": 22
        }
      ],
      "source": [
        "# Division\n",
        "5/5"
      ]
    },
    {
      "cell_type": "code",
      "execution_count": null,
      "metadata": {
        "id": "OPmLt3yJ6BdK",
        "colab": {
          "base_uri": "https://localhost:8080/"
        },
        "outputId": "0253e86e-c1d0-434e-e8df-66aad205bbf0"
      },
      "outputs": [
        {
          "output_type": "execute_result",
          "data": {
            "text/plain": [
              "4096"
            ]
          },
          "metadata": {},
          "execution_count": 26
        }
      ],
      "source": [
        "# Exponentiation\n",
        "8 ** 4"
      ]
    },
    {
      "cell_type": "code",
      "execution_count": null,
      "metadata": {
        "id": "8mf1lCS86BdL",
        "colab": {
          "base_uri": "https://localhost:8080/"
        },
        "outputId": "e7406e1c-ee83-44e6-9bfb-8fb9dbde5a48"
      },
      "outputs": [
        {
          "output_type": "execute_result",
          "data": {
            "text/plain": [
              "14"
            ]
          },
          "metadata": {},
          "execution_count": 32
        }
      ],
      "source": [
        "# Modular division\n",
        "29 % 15"
      ]
    },
    {
      "cell_type": "code",
      "execution_count": null,
      "metadata": {
        "id": "-zR1bzjE6BdM",
        "colab": {
          "base_uri": "https://localhost:8080/"
        },
        "outputId": "84e39f1b-c9e9-4166-f8dc-acbb126f2651"
      },
      "outputs": [
        {
          "output_type": "execute_result",
          "data": {
            "text/plain": [
              "3"
            ]
          },
          "metadata": {},
          "execution_count": 38
        }
      ],
      "source": [
        "# Floor division\n",
        "7 // 2"
      ]
    },
    {
      "cell_type": "markdown",
      "source": [
        "---"
      ],
      "metadata": {
        "id": "J-WWpbFO6O8R"
      }
    },
    {
      "cell_type": "markdown",
      "metadata": {
        "id": "IUTVJ9086BdN"
      },
      "source": [
        "## **🛝 Practice Playground** - Section 3"
      ]
    },
    {
      "cell_type": "markdown",
      "source": [
        "### **Example:**\n",
        "\n",
        "Recall the area of a rectangle:\n",
        "\n",
        "$$ A = l * w $$\n",
        "\n",
        "Calculate the area of the rectangle if the length is 160cm and the width is 27cm."
      ],
      "metadata": {
        "id": "x0XXEcjaWc9q"
      }
    },
    {
      "cell_type": "code",
      "source": [
        "length = 160\n",
        "width = 27\n",
        "\n",
        "area = length * width\n",
        "\n",
        "print(area)"
      ],
      "metadata": {
        "colab": {
          "base_uri": "https://localhost:8080/"
        },
        "id": "umbbj9FtWct2",
        "outputId": "1accc92f-61d6-4e27-d69a-53db072cc56f"
      },
      "execution_count": null,
      "outputs": [
        {
          "output_type": "stream",
          "name": "stdout",
          "text": [
            "4320\n"
          ]
        }
      ]
    },
    {
      "cell_type": "markdown",
      "source": [
        "### **Your Turn:**\n",
        "*Answer is listed below!*\n",
        "<br>\n",
        "\n",
        "1. **Create Variables:**\n",
        "   - Assign the integer value `150` to a variable named `initial_balance`.\n",
        "   - Assign the float value `29.95` to a variable named `item_price`.\n",
        "\n",
        "2. **Perform Calculations:**\n",
        "   - Subtract `item_price` from `initial_balance` and assign the result to a new variable called `new_balance`.\n",
        "\n",
        "3. **Print Results:**\n",
        "   - Print `new_balance`."
      ],
      "metadata": {
        "id": "sBVIE7yrn13s"
      }
    },
    {
      "cell_type": "code",
      "source": [
        "# Enter your code here\n",
        "initial_balance = 150\n",
        "item_price = 29.95\n",
        "\n",
        "new_balance = initial_balance - item_price\n",
        "\n",
        "print(new_balance)"
      ],
      "metadata": {
        "id": "oPjFRvs-n1ob",
        "colab": {
          "base_uri": "https://localhost:8080/"
        },
        "outputId": "647906ed-c606-47e0-bee9-7d90102f9223"
      },
      "execution_count": null,
      "outputs": [
        {
          "output_type": "stream",
          "name": "stdout",
          "text": [
            "120.05\n"
          ]
        }
      ]
    },
    {
      "cell_type": "markdown",
      "source": [
        "<details>\n",
        "<summary> <h3> <b>💡 Click Here to View Answer! </b> </h3> </summary>\n",
        "\n",
        "```python\n",
        "# Assigning values\n",
        "initial_balance = 150\n",
        "item_price = 29.95\n",
        "\n",
        "# Calculations\n",
        "new_balance = initial_balance - item_price\n",
        "\n",
        "# Printing results\n",
        "print(new_balance)\n",
        "```"
      ],
      "metadata": {
        "id": "Tkm1owo2wu1u"
      }
    },
    {
      "cell_type": "markdown",
      "source": [
        "---"
      ],
      "metadata": {
        "id": "zY7ApqpSrfAZ"
      }
    }
  ],
  "metadata": {
    "anaconda-cloud": {},
    "colab": {
      "provenance": [],
      "include_colab_link": true
    },
    "kernelspec": {
      "display_name": "Python 3 (ipykernel)",
      "language": "python",
      "name": "python3"
    },
    "language_info": {
      "codemirror_mode": {
        "name": "ipython",
        "version": 3
      },
      "file_extension": ".py",
      "mimetype": "text/x-python",
      "name": "python",
      "nbconvert_exporter": "python",
      "pygments_lexer": "ipython3",
      "version": "3.11.7"
    }
  },
  "nbformat": 4,
  "nbformat_minor": 0
}